{
 "cells": [
  {
   "cell_type": "markdown",
   "metadata": {},
   "source": [
    "# Graphing teh Berds\n",
    "\n",
    "Our sample data set for this course is the NLDL Data set from F. Kubke.\n",
    "\n",
    "NLDL stands for \"Nucleus Laminaris Delay Lines\". The data in each file describes the voltage over time at a specific location in the brain.\n",
    "\n",
    "In simple terms an electrical stimulation was applied at the point where sound enters the brain, and then electrodes measured the voltage over time at a range of locations.\n",
    "\n",
    "By measuring the time delay from stimulation to peak voltage for each data file, we can obtain secondary data which can be combined to determine whether the stimulation came from the left ear or right ear.\n",
    "\n",
    "Our goal here is to plot the voltage over time as recorded in a single file.\n",
    "\n",
    "The resulting chart will be a waveform.\n"
   ]
  },
  {
   "cell_type": "markdown",
   "metadata": {},
   "source": [
    "## Loading the Data"
   ]
  },
  {
   "cell_type": "markdown",
   "metadata": {},
   "source": [
    "We're using an external module so it's best to enable autoreload. \n",
    "\n",
    "This means if we make any changes to the module, the script here will be automatically updated."
   ]
  },
  {
   "cell_type": "code",
   "execution_count": null,
   "metadata": {
    "collapsed": true
   },
   "outputs": [],
   "source": [
    "%autoreload 2"
   ]
  },
  {
   "cell_type": "markdown",
   "metadata": {},
   "source": [
    "Import the parser. This module can take one or more NLDL files and convert them to Python objects for you.\n",
    "\n",
    "Also import pprint (pretty print) to make the printed data easier to inspect."
   ]
  },
  {
   "cell_type": "code",
   "execution_count": null,
   "metadata": {
    "collapsed": false
   },
   "outputs": [],
   "source": [
    "from nldl_parser import *\n",
    "from pprint import *"
   ]
  },
  {
   "cell_type": "markdown",
   "metadata": {},
   "source": [
    "Set the source file. Let's just start with one."
   ]
  },
  {
   "cell_type": "code",
   "execution_count": null,
   "metadata": {
    "collapsed": true
   },
   "outputs": [],
   "source": [
    "source_file = 'csv/TEK0000.CSV'"
   ]
  },
  {
   "cell_type": "markdown",
   "metadata": {},
   "source": [
    "Create a new `parser`. Pass it the `source_file` and receive back the `data` object."
   ]
  },
  {
   "cell_type": "code",
   "execution_count": null,
   "metadata": {
    "collapsed": false,
    "scrolled": true
   },
   "outputs": [],
   "source": [
    "parser = nldl_parser.NLDLParser()\n",
    "data = parser.parse_file(source_file)"
   ]
  },
  {
   "cell_type": "code",
   "execution_count": null,
   "metadata": {
    "collapsed": false
   },
   "outputs": [],
   "source": [
    "print(\"File Data:\")\n",
    "pprint(data)"
   ]
  },
  {
   "cell_type": "markdown",
   "metadata": {},
   "source": [
    "## Generating a Chart"
   ]
  },
  {
   "cell_type": "markdown",
   "metadata": {},
   "source": [
    "Before we start, let's make it so that any charts we generate display on this page rather than opening in a new window.\n",
    "\n",
    "We use the `inline` command to plot inside the notebook rather than having a new window open.\n",
    "\n",
    "Importing `Image` from IPython allows us to show images here in our notebook."
   ]
  },
  {
   "cell_type": "code",
   "execution_count": null,
   "metadata": {
    "collapsed": true
   },
   "outputs": [],
   "source": [
    "%matplotlib inline \n",
    "from IPython.display import Image"
   ]
  },
  {
   "cell_type": "markdown",
   "metadata": {},
   "source": [
    "We then need to import the relevant libraries. At this point, all we need is **pyplot** for creating the charts and **numpy** for working with numbers."
   ]
  },
  {
   "cell_type": "code",
   "execution_count": null,
   "metadata": {
    "collapsed": true
   },
   "outputs": [],
   "source": [
    "import matplotlib.pyplot as pyplot\n",
    "import numpy"
   ]
  },
  {
   "cell_type": "markdown",
   "metadata": {},
   "source": [
    "A basic line chart is made of `x` and `y` values. \n",
    "\n",
    "To generate a chart, we need (at a bare minimum) the following steps:\n",
    "\n",
    "- Create separate lists of all the values for the **x** axis and all the values for the **y** axis.\n",
    "- Pass the x and y lists to **pyplot.plot()**.\n",
    "- Use **pyplot.show()** to display the result."
   ]
  },
  {
   "cell_type": "code",
   "execution_count": null,
   "metadata": {
    "collapsed": false
   },
   "outputs": [],
   "source": [
    "x_data = [0,1,2,3,4,5,6,7,8,9]\n",
    "y_data = [1,2,4,5,7,9,10,7,5,2]\n",
    "\n",
    "pyplot.plot(x_data, y_data)\n",
    "pyplot.show()"
   ]
  },
  {
   "cell_type": "markdown",
   "metadata": {},
   "source": [
    "## Plotting the NLDL Data"
   ]
  },
  {
   "cell_type": "markdown",
   "metadata": {},
   "source": [
    "In our NLDL data, we want to plot the values from the **readings** list.\n",
    "\n",
    "The **x** axis will be **time**.\n",
    "The **y** axis will be **voltage**.\n",
    "\n",
    "Have another look at the printed NLDL data we created earlier and identify where you can find the **time** and **voltage** for each reading.\n",
    "\n",
    "We need to:\n",
    "\n",
    "- Create lists for the x values and y values.\n",
    "- Look at each reading from the list of readings.\n",
    "- Extract the reading's time and save it to the x values.\n",
    "- Extract the reading's voltage and save it to the y values.\n",
    "- Plot the data."
   ]
  },
  {
   "cell_type": "markdown",
   "metadata": {},
   "source": [
    "## Extract the X and Y Data\n",
    "\n",
    "Here we need to look at each reading individually and extract the x value (time) and the y value (voltage).\n",
    "\n",
    "Each value will be saved to the relevant list."
   ]
  },
  {
   "cell_type": "code",
   "execution_count": null,
   "metadata": {
    "collapsed": true
   },
   "outputs": [],
   "source": [
    "x_data = []\n",
    "y_data = []\n",
    "\n",
    "for reading in data['readings']:\n",
    "    \n",
    "    time = reading['time']\n",
    "    time = float(time) * 1000\n",
    "    x_data.append(time)\n",
    "    \n",
    "    voltage = reading['voltage']\n",
    "    y_data.append(voltage)"
   ]
  },
  {
   "cell_type": "markdown",
   "metadata": {},
   "source": [
    "We should also check that our data looks reasonable before we begin plotting it..."
   ]
  },
  {
   "cell_type": "code",
   "execution_count": null,
   "metadata": {
    "collapsed": false
   },
   "outputs": [],
   "source": [
    "pprint(x_data)"
   ]
  },
  {
   "cell_type": "code",
   "execution_count": null,
   "metadata": {
    "collapsed": false
   },
   "outputs": [],
   "source": [
    "pprint(y_data)"
   ]
  },
  {
   "cell_type": "markdown",
   "metadata": {},
   "source": [
    "## Create a Basic Plot\n",
    "\n",
    "Once we have the data, creating a chart is a matter of just two lines."
   ]
  },
  {
   "cell_type": "code",
   "execution_count": null,
   "metadata": {
    "collapsed": false
   },
   "outputs": [],
   "source": [
    "pyplot.plot(x_data, y_data)\n",
    "pyplot.show()"
   ]
  },
  {
   "cell_type": "markdown",
   "metadata": {},
   "source": [
    "We can also add some styling to make it look nicer.\n",
    "\n",
    "The title and axis labels can be added using the relevant plot functions.\n",
    "\n",
    "We can also add annotations such as arrows and lines. Here we've added a vertical line to show where **time = 0**, which is the point at which the stimulation was applied. The time before zero is a recording buffer."
   ]
  },
  {
   "cell_type": "code",
   "execution_count": null,
   "metadata": {
    "collapsed": false
   },
   "outputs": [],
   "source": [
    "pyplot.style.use('ggplot')\n",
    "\n",
    "pyplot.title(\"NLDL Data\")\n",
    "pyplot.xlabel(\"Time (ms)\")\n",
    "pyplot.ylabel(\"Voltage\")\n",
    "\n",
    "pyplot.axvline(x=0, color='blue')\n",
    "\n",
    "pyplot.plot(x_data, y_data)\n",
    "pyplot.show()"
   ]
  },
  {
   "cell_type": "markdown",
   "metadata": {},
   "source": [
    "Last of all, we can save our chart as an image file:"
   ]
  },
  {
   "cell_type": "code",
   "execution_count": null,
   "metadata": {
    "collapsed": true
   },
   "outputs": [],
   "source": [
    "pyplot.savefig(\"TEK0000.png\")"
   ]
  }
 ],
 "metadata": {
  "kernelspec": {
   "display_name": "Python 3",
   "language": "python",
   "name": "python3"
  },
  "language_info": {
   "codemirror_mode": {
    "name": "ipython",
    "version": 3
   },
   "file_extension": ".py",
   "mimetype": "text/x-python",
   "name": "python",
   "nbconvert_exporter": "python",
   "pygments_lexer": "ipython3",
   "version": "3.5.2"
  }
 },
 "nbformat": 4,
 "nbformat_minor": 1
}
